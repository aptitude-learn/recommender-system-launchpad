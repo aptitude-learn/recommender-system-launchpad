{
  "nbformat": 4,
  "nbformat_minor": 0,
  "metadata": {
    "colab": {
      "provenance": []
    },
    "kernelspec": {
      "name": "python3",
      "display_name": "Python 3"
    },
    "language_info": {
      "name": "python"
    }
  },
  "cells": [
    {
      "cell_type": "markdown",
      "source": [
        "## 📝 This is a template to get you started. You need to add & modify the code yourselves. "
      ],
      "metadata": {
        "id": "nDI6clc9fVBM"
      }
    },
    {
      "cell_type": "markdown",
      "source": [
        "### Import libraries"
      ],
      "metadata": {
        "id": "LpTt4LqfcvAE"
      }
    },
    {
      "cell_type": "code",
      "execution_count": null,
      "metadata": {
        "id": "uKo8IZDI4_wh"
      },
      "outputs": [],
      "source": [
        "import pandas as pd\n",
        "import numpy as np\n",
        "from sklearn.metrics.pairwise import cosine_similarity"
      ]
    },
    {
      "cell_type": "markdown",
      "source": [
        "### Add the data"
      ],
      "metadata": {
        "id": "7FDfbC1Vc7m2"
      }
    },
    {
      "cell_type": "code",
      "source": [
        "data = pd.read_csv('# add your data source here')"
      ],
      "metadata": {
        "id": "K8uniKPF5G3p"
      },
      "execution_count": null,
      "outputs": []
    },
    {
      "cell_type": "markdown",
      "source": [
        "### View and modify the data"
      ],
      "metadata": {
        "id": "1G2wJFasdAaN"
      }
    },
    {
      "cell_type": "code",
      "source": [
        "data.head()"
      ],
      "metadata": {
        "id": "gy6DzzTq7gD_"
      },
      "execution_count": null,
      "outputs": []
    },
    {
      "cell_type": "code",
      "source": [
        "data.info()"
      ],
      "metadata": {
        "id": "bK0h45ACeEEq"
      },
      "execution_count": null,
      "outputs": []
    },
    {
      "cell_type": "code",
      "source": [
        "data.describe()"
      ],
      "metadata": {
        "id": "87bfVV1xeGXQ"
      },
      "execution_count": null,
      "outputs": []
    },
    {
      "cell_type": "markdown",
      "source": [
        "### Build a user-item matrix"
      ],
      "metadata": {
        "id": "Eo_5lNNHdJPX"
      }
    },
    {
      "cell_type": "code",
      "source": [
        "matrix = data.pivot_table(index='# insert your index', columns='# insert your chosen column', values='# insert your values')\n"
      ],
      "metadata": {
        "id": "uIT4-fkB7Ur8"
      },
      "execution_count": null,
      "outputs": []
    },
    {
      "cell_type": "code",
      "source": [
        "# Note: don't forget to deal with the NaN values"
      ],
      "metadata": {
        "id": "s_MRSUSb2ZAs"
      },
      "execution_count": null,
      "outputs": []
    },
    {
      "cell_type": "markdown",
      "source": [
        "### Find the similarities"
      ],
      "metadata": {
        "id": "iylFNLNHdPPN"
      }
    },
    {
      "cell_type": "code",
      "source": [
        "similarity = cosine_similarity(matrix.T)"
      ],
      "metadata": {
        "id": "8waAW_h159Ec"
      },
      "execution_count": null,
      "outputs": []
    },
    {
      "cell_type": "markdown",
      "source": [
        "### Build the algorithm(s)"
      ],
      "metadata": {
        "id": "jJOdgkLNdVV7"
      }
    },
    {
      "cell_type": "code",
      "source": [
        "def get_recommendations():\n",
        "    '''\n",
        "    Build your collaborative filtering, content based filtering, or hybrid\n",
        "    algorithm here.\n",
        "    '''\n",
        "    return recommendation"
      ],
      "metadata": {
        "id": "9bQ725So8ITc"
      },
      "execution_count": null,
      "outputs": []
    },
    {
      "cell_type": "markdown",
      "source": [
        "### Run your algorithm with the data"
      ],
      "metadata": {
        "id": "bE92VfJpdbzh"
      }
    },
    {
      "cell_type": "code",
      "source": [
        "get_recommendations()"
      ],
      "metadata": {
        "id": "aVXpk2mC7M-7"
      },
      "execution_count": null,
      "outputs": []
    }
  ]
}